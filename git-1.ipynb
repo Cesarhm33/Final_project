{
 "cells": [
  {
   "cell_type": "code",
   "execution_count": 14,
   "metadata": {},
   "outputs": [],
   "source": [
    "import pandas as pd\n",
    "import numpy as np\n",
    "from sklearn.preprocessing import LabelEncoder\n"
   ]
  },
  {
   "cell_type": "code",
   "execution_count": 2,
   "metadata": {},
   "outputs": [],
   "source": [
    "df_sales= pd.read_csv('sales_train.csv')\n"
   ]
  },
  {
   "cell_type": "code",
   "execution_count": 3,
   "metadata": {},
   "outputs": [
    {
     "data": {
      "text/plain": [
       "Index(['date', 'date_block_num', 'shop_id', 'item_id', 'item_price',\n",
       "       'item_cnt_day'],\n",
       "      dtype='object')"
      ]
     },
     "execution_count": 3,
     "metadata": {},
     "output_type": "execute_result"
    }
   ],
   "source": [
    "df_sales.columns"
   ]
  },
  {
   "cell_type": "code",
   "execution_count": 4,
   "metadata": {},
   "outputs": [],
   "source": [
    "df_sales['date'] = pd.to_datetime(df_sales['date'])\n",
    "df_sales['year'] = df_sales['date'].dt.strftime('%Y').astype(int)\n",
    "df_sales['month'] = df_sales['date'].dt.strftime('%m').astype(int)\n",
    "df_sales['day'] = df_sales['date'].dt.strftime('%d').astype(int)"
   ]
  },
  {
   "cell_type": "code",
   "execution_count": 5,
   "metadata": {},
   "outputs": [],
   "source": [
    "df_sales['day_of_week']=df_sales['date'].dt.dayofweek"
   ]
  },
  {
   "cell_type": "code",
   "execution_count": 6,
   "metadata": {},
   "outputs": [],
   "source": [
    "df_sales.loc[df_sales['day_of_week'].between(0,3), 'weekend'] = 'no'\n",
    "df_sales.loc[df_sales['day_of_week'].between(4,6), 'weekend'] = 'yes'"
   ]
  },
  {
   "cell_type": "code",
   "execution_count": 7,
   "metadata": {},
   "outputs": [],
   "source": [
    "df_sales.loc[df_sales['month'].between(1,2), 'season'] ='invierno'\n",
    "df_sales.loc[df_sales['month'].between(11,12), 'season'] ='invierno'\n",
    "df_sales.loc[df_sales['month'].between(3,5), 'season'] ='primavera'\n",
    "df_sales.loc[df_sales['month'].between(6,9), 'season'] ='verano'\n",
    "df_sales.loc[df_sales['month'].between(9,10), 'season'] ='otoño'\n"
   ]
  },
  {
   "cell_type": "code",
   "execution_count": 8,
   "metadata": {},
   "outputs": [],
   "source": [
    "df_sales.loc[df_sales['date'].between('2013-01-01','2013-01-08'), 'holyday'] =1# navidad\n",
    "df_sales.loc[df_sales['date']=='2013-02-23', 'holyday'] =1#fiesta nacional\n",
    "df_sales.loc[df_sales['date']=='2013-03-08', 'holyday'] =1#fiesta nacional\n",
    "df_sales.loc[df_sales['date'].between('2013-05-01','2013-05-03'), 'holyday'] =1#fiesta nacional\n",
    "df_sales.loc[df_sales['date'].between('2013-05-09','2013-05-10'), 'holyday'] =1#fiesta nacional\n",
    "df_sales.loc[df_sales['date']=='2013-06-12', 'holyday'] =1#fiesta nacional\n",
    "df_sales.loc[df_sales['date']=='2013-11-04', 'holyday'] =1#fiesta naciona\n",
    "                                      \n",
    "df_sales.loc[df_sales['date'].between('2014-01-01','2014-01-08'), 'holyday'] =1\n",
    "df_sales.loc[df_sales['date'].between('2014-02-22','2014-02-23'), 'holyday'] =1\n",
    "df_sales.loc[df_sales['date'].between('2014-03-08','2014-03-10'), 'holyday'] =1\n",
    "df_sales.loc[df_sales['date'].between('2014-05-01','2014-05-04'), 'holyday'] =1\n",
    "df_sales.loc[df_sales['date'].between('2014-05-09','2014-05-11'), 'holyday'] =1\n",
    "df_sales.loc[df_sales['date']=='2014-06-07', 'holyday'] =1\n",
    "df_sales.loc[df_sales['date'].between('2014-06-12','2014-06-15'), 'holyday'] =1\n",
    "df_sales.loc[df_sales['date'].between('2014-11-01','2014-11-02'), 'holyday'] =1\n",
    "\n",
    "df_sales.loc[df_sales['date'].between('2015-01-01','2015-01-09'), 'holyday'] =1# navidad\n",
    "df_sales.loc[df_sales['date']=='2015-02-23', 'holyday'] =1\n",
    "df_sales.loc[df_sales['date'].between('2015-03-08','2015-03-09'), 'holyday'] =1# \n",
    "df_sales.loc[df_sales['date']=='2015-05-01', 'holyday'] =1\n",
    "df_sales.loc[df_sales['date']=='2015-05-04', 'holyday'] =1\n",
    "df_sales.loc[df_sales['date']=='2015-05-09', 'holyday'] =1\n",
    "df_sales.loc[df_sales['date']=='2015-05-11', 'holyday'] =1\n",
    "df_sales.loc[df_sales['date']=='2015-06-12', 'holyday'] =1\n",
    "df_sales.loc[df_sales['date']=='2015-11-04', 'holyday'] =1\n",
    "\n",
    "\n",
    "df_sales['holyday'] = df_sales['holyday'].replace(np.nan, 0)\n",
    "# https://www.timeanddate.com/holidays/russia\n",
    "\n",
    "\n",
    "\n"
   ]
  },
  {
   "cell_type": "code",
   "execution_count": 9,
   "metadata": {},
   "outputs": [],
   "source": [
    "#Variable especifica de Navidad\n",
    "df_sales.loc[df_sales['date'].between('2013-01-01','2013-01-08'), 'christmas'] ='christmas'\n",
    "df_sales.loc[df_sales['month']==11, 'christmas'] ='pre_christmas'\n",
    "df_sales.loc[df_sales['date'].between('2013-12-01','2014-01-08'), 'christmas'] ='christmas'\n",
    "df_sales.loc[df_sales['date'].between('2014-01-09','2014-01-31'),'christmas']='post_christmas'\n",
    "df_sales.loc[df_sales['date'].between('2014-12-01','2015-01-09'), 'christmas'] ='christmas'\n",
    "df_sales.loc[df_sales['date'].between('2015-01-09','2015-01-31'),'christmas']='post_christmas'\n",
    "\n",
    "df_sales['christmas'] = df_sales['christmas'].replace(np.nan, 'no_christmas')\n"
   ]
  },
  {
   "cell_type": "code",
   "execution_count": 10,
   "metadata": {},
   "outputs": [],
   "source": [
    "df_sales.loc[df_sales['date']=='2013-01-14', 'other_events'] =1#año nuevo ortodoxo\n",
    "df_sales.loc[df_sales['date']=='2013-01-21', 'other_events'] =1#fiesta musulman\n",
    "df_sales.loc[df_sales['date']=='2013-01-21', 'other_events'] =1#fiesta musulman\n",
    "df_sales.loc[df_sales['date']=='2013-02-14', 'other_events'] =1#san valentin\n",
    "df_sales.loc[df_sales['date']=='2013-03-20', 'other_events'] =1\n",
    "df_sales.loc[df_sales['date']=='2013-05-05', 'other_events'] =1#fiesta ortodoxa\n",
    "df_sales.loc[df_sales['date']=='2013-06-06', 'other_events'] =1#fiesta musulman\n",
    "df_sales.loc[df_sales['date']=='2013-06-21', 'other_events'] =1#verano\n",
    "df_sales.loc[df_sales['date']=='2013-01-21', 'other_events'] =1#fiesta musulman\n",
    "df_sales.loc[df_sales['date']=='2013-07-09', 'other_events'] =1#fiesta musulman\n",
    "df_sales.loc[df_sales['date']=='2013-08-03', 'other_events'] =1#fiesta musulman\n",
    "df_sales.loc[df_sales['date']=='2013-08-08', 'other_events'] =1#fiesta musulman\n",
    "df_sales.loc[df_sales['date']=='2013-09-01', 'other_events'] =1#obervance\n",
    "df_sales.loc[df_sales['date']=='2013-09-23', 'other_events'] =1#equinoceo\n",
    "df_sales.loc[df_sales['date']=='2013-11-05', 'other_events'] =1#fiesta musulman\n",
    "df_sales.loc[df_sales['date']=='2013-12-21', 'other_events'] =1#invierno\n",
    "df_sales.loc[df_sales['date']=='2013-12-30', 'other_events'] =1# vispera año nuevo\n",
    "df_sales.loc[df_sales['date']=='2013-12-31', 'other_events'] =1#vispera año nuevo \n",
    "\n",
    "df_sales.loc[df_sales['date']=='2014-01-14', 'other_events'] =1#año nuevo ortodoxo\n",
    "df_sales.loc[df_sales['date']=='2014-02-14', 'other_events'] =1#san valentin\n",
    "df_sales.loc[df_sales['date']=='2014-03-20', 'other_events'] =1#observance\n",
    "df_sales.loc[df_sales['date']=='2014-04-20', 'other_events'] =1#observance\n",
    "df_sales.loc[df_sales['date']=='2014-05-27', 'other_events'] =1#fiesta musulman\n",
    "df_sales.loc[df_sales['date']=='2014-06-21', 'other_events'] =1#verano\n",
    "df_sales.loc[df_sales['date']=='2014-06-29', 'other_events'] =1#fiesta musulman\n",
    "df_sales.loc[df_sales['date']=='2014-09-01', 'other_events'] =1#obsevance\n",
    "df_sales.loc[df_sales['date']=='2014-09-23', 'other_events'] =1#equinoceo\n",
    "df_sales.loc[df_sales['date']=='2014-10-04', 'other_events'] =1#fiesta musulman\n",
    "df_sales.loc[df_sales['date']=='2014-10-25', 'other_events'] =1#fiesta musulman\n",
    "df_sales.loc[df_sales['date']=='2014-12-22', 'other_events'] =1#invierno\n",
    "df_sales.loc[df_sales['date']=='2014-12-30', 'other_events'] =1# vispera año nuevo\n",
    "df_sales.loc[df_sales['date']=='2014-12-31', 'other_events'] =1#vispera año nuevo \n",
    "\n",
    "df_sales.loc[df_sales['date']=='2015-01-03', 'other_events'] =1# fiesta musulman\n",
    "df_sales.loc[df_sales['date']=='2015-01-14', 'other_events'] =1#año nuevo ortodoxo\n",
    "df_sales.loc[df_sales['date']=='2015-02-14', 'other_events'] =1#san valentin\n",
    "df_sales.loc[df_sales['date']=='2015-02-27', 'other_events'] =1#observance\n",
    "df_sales.loc[df_sales['date']=='2015-03-21', 'other_events'] =1#observance\n",
    "df_sales.loc[df_sales['date']=='2015-04-12', 'other_events'] =1#fiesta ortodoxa\n",
    "df_sales.loc[df_sales['date']=='2015-05-16', 'other_events'] =1#fiesta musulman\n",
    "df_sales.loc[df_sales['date']=='2015-06-18', 'other_events'] =1#fiesta musulman\n",
    "df_sales.loc[df_sales['date']=='2015-06-21', 'other_events'] =1#verano\n",
    "df_sales.loc[df_sales['date']=='2015-07-13', 'other_events'] =1#fiesta musulman\n",
    "df_sales.loc[df_sales['date']=='2015-07-18', 'other_events'] =1#fiesta musulman\n",
    "df_sales.loc[df_sales['date']=='2015-09-01', 'other_events'] =1#observance\n",
    "df_sales.loc[df_sales['date']=='2015-09-23', 'other_events'] =1#equinoceo\n",
    "df_sales.loc[df_sales['date']=='2015-09-24', 'other_events'] =1#fiesta musulman\n",
    "df_sales.loc[df_sales['date']=='2015-10-15', 'other_events'] =1#fiesta musulman\n",
    "df_sales.loc[df_sales['date']=='2015-12-22', 'other_events'] =1#invierno\n",
    "df_sales.loc[df_sales['date']=='2015-12-24', 'other_events'] =1#fiesta musulman\n",
    "df_sales.loc[df_sales['date']=='2015-12-30', 'other_events'] =1# vispera año nuevo\n",
    "df_sales.loc[df_sales['date']=='2015-12-31', 'other_events'] =1#vispera año nuevo \n",
    "\n",
    "\n",
    "df_sales['other_events'] = df_sales['other_events'].replace(np.nan, 0)\n",
    "\n",
    "# https://www.timeanddate.com/holidays/russia\n"
   ]
  },
  {
   "cell_type": "code",
   "execution_count": 11,
   "metadata": {},
   "outputs": [],
   "source": [
    "df_sales.loc[df_sales['day'].between(1,15), 'first_15']=1\n",
    "df_sales.loc[df_sales['day'].between(16,31), 'first_15']=0"
   ]
  },
  {
   "cell_type": "code",
   "execution_count": 12,
   "metadata": {},
   "outputs": [],
   "source": [
    "df_sales.loc[df_sales['day'].between(1,7), 'week']='first'\n",
    "df_sales.loc[df_sales['day'].between(8,14), 'week']='second'\n",
    "df_sales.loc[df_sales['day'].between(15,21), 'week']= 'three'\n",
    "df_sales.loc[df_sales['day'].between(22,31), 'week']='four'"
   ]
  },
  {
   "cell_type": "code",
   "execution_count": 13,
   "metadata": {},
   "outputs": [],
   "source": [
    "df_sales.loc[(df_sales['shop_id'].between(0,1)&(df_sales['month']==7), 'turismo')]=1\n",
    "df_sales.loc[(df_sales['month'].between(6,9)&(df_sales['shop_id']==2), 'turismo')]=1\n",
    "df_sales.loc[(df_sales['month'].between(7,8)&(df_sales['shop_id']==3), 'turismo')]=1\n",
    "df_sales.loc[(df_sales['month'].between(6,9)&(df_sales['shop_id']==4), 'turismo')]=1\n",
    "df_sales.loc[((df_sales['month']==7)&(df_sales['shop_id']==5), 'turismo')]=1\n",
    "df_sales.loc[(df_sales['month'].between(6,8)&(df_sales['shop_id'].between(6,9)), 'turismo')]=1\n",
    "df_sales.loc[(df_sales['month'].between(6,8)&(df_sales['shop_id'].between(10,12)), 'turismo')]=1\n",
    "df_sales.loc[(df_sales['month'].between(6,8)&(df_sales['shop_id'].between(13,14)), 'turismo')]=1\n",
    "df_sales.loc[(df_sales['month'].between(7,8)&(df_sales['shop_id']==15), 'turismo')]=1\n",
    "df_sales.loc[(df_sales['month'].between(7,8)&(df_sales['shop_id']==16), 'turismo')]=1\n",
    "df_sales.loc[(df_sales['shop_id'].between(17,18)&(df_sales['month']==7), 'turismo')]=1\n",
    "df_sales.loc[(df_sales['month'].between(6,8)&(df_sales['shop_id']==19), 'turismo')]=1\n",
    "df_sales.loc[(df_sales['month'].between(7,8)&(df_sales['shop_id'].between(20,32)), 'turismo')]=1\n",
    "df_sales.loc[(df_sales['month'].between(7,8)&(df_sales['shop_id']==33), 'turismo')]=1\n",
    "df_sales.loc[(df_sales['month'].between(7,8)&(df_sales['shop_id'].between(34,35)), 'turismo')]=1\n",
    "df_sales.loc[(df_sales['month'].between(6,8)&(df_sales['shop_id'].between(36,37)), 'turismo')]=1\n",
    "df_sales.loc[(df_sales['month'].between(6,8)&(df_sales['shop_id']==38), 'turismo')]=1\n",
    "df_sales.loc[(df_sales['month'].between(6,9)&(df_sales['shop_id'].between(39,41)), 'turismo')]=1\n",
    "df_sales.loc[(df_sales['month'].between(7,8)&(df_sales['shop_id'].between(42,43)), 'turismo')]=1\n",
    "df_sales.loc[(df_sales['month'].between(6,8)&(df_sales['shop_id'].between(44,45)), 'turismo')]=1\n",
    "df_sales.loc[(df_sales['month'].between(6,8)&(df_sales['shop_id']==46), 'turismo')]=1\n",
    "df_sales.loc[((df_sales['month']==7)&(df_sales['shop_id']==47), 'turismo')]=1\n",
    "df_sales.loc[(df_sales['month'].between(6,7)&(df_sales['shop_id']==48), 'turismo')]=1\n",
    "df_sales.loc[(df_sales['month'].between(6,8)&(df_sales['shop_id'].between(49,51)), 'turismo')]=1\n",
    "df_sales.loc[(df_sales['month'].between(6,8)&(df_sales['shop_id'].between(52,53)), 'turismo')]=1\n",
    "df_sales.loc[(df_sales['month'].between(7,8)&(df_sales['shop_id'].between(54,55)), 'turismo')]=1\n",
    "df_sales.loc[((df_sales['month']==8)&(df_sales['shop_id']==56), 'turismo')]=1\n",
    "df_sales.loc[(df_sales['shop_id'].between(57,58)&(df_sales['month']==7), 'turismo')]=1\n",
    "df_sales.loc[(df_sales['month'].between(7,8)&(df_sales['shop_id']==59), 'turismo')]=1\n",
    "\n",
    "df_sales['turismo'] = df_sales['turismo'].replace(np.nan, 0)\n",
    "\n",
    "#https://es.weatherspark.com/\n"
   ]
  },
  {
   "cell_type": "code",
   "execution_count": 15,
   "metadata": {},
   "outputs": [
    {
     "name": "stdout",
     "output_type": "stream",
     "text": [
      "<class 'pandas.core.frame.DataFrame'>\n",
      "RangeIndex: 2935849 entries, 0 to 2935848\n",
      "Data columns (total 18 columns):\n",
      " #   Column          Dtype         \n",
      "---  ------          -----         \n",
      " 0   date            datetime64[ns]\n",
      " 1   date_block_num  int64         \n",
      " 2   shop_id         int64         \n",
      " 3   item_id         int64         \n",
      " 4   item_price      float64       \n",
      " 5   item_cnt_day    float64       \n",
      " 6   year            int64         \n",
      " 7   month           int64         \n",
      " 8   day             int64         \n",
      " 9   day_of_week     int64         \n",
      " 10  weekend         object        \n",
      " 11  season          object        \n",
      " 12  holyday         float64       \n",
      " 13  christmas       object        \n",
      " 14  other_events    float64       \n",
      " 15  first_15        float64       \n",
      " 16  week            object        \n",
      " 17  turismo         float64       \n",
      "dtypes: datetime64[ns](1), float64(6), int64(7), object(4)\n",
      "memory usage: 403.2+ MB\n"
     ]
    }
   ],
   "source": [
    "df_sales.info()"
   ]
  },
  {
   "cell_type": "code",
   "execution_count": 16,
   "metadata": {},
   "outputs": [
    {
     "name": "stderr",
     "output_type": "stream",
     "text": [
      "<ipython-input-16-c76d6e762492>:4: UserWarning: Pandas doesn't allow columns to be created via a new attribute name - see https://pandas.pydata.org/pandas-docs/stable/indexing.html#attribute-access\n",
      "  df_sales.date_bock_num = df_sales.date_block_num.astype('int8')\n",
      "<ipython-input-16-c76d6e762492>:13: UserWarning: Pandas doesn't allow columns to be created via a new attribute name - see https://pandas.pydata.org/pandas-docs/stable/indexing.html#attribute-access\n",
      "  df_sales.holiday = df_sales.holyday.astype('int8')\n"
     ]
    }
   ],
   "source": [
    "df_sales['weekend'] = LabelEncoder().fit_transform(df_sales['weekend']).astype('int8')\n",
    "df_sales['season'] = LabelEncoder().fit_transform(df_sales['season']).astype('int8')\n",
    "df_sales['week'] = LabelEncoder().fit_transform(df_sales['week']).astype('int8')\n",
    "df_sales.date_bock_num = df_sales.date_block_num.astype('int8')\n",
    "df_sales.shop_id = df_sales.shop_id.astype('int8')\n",
    "df_sales.item_id = df_sales.item_id.astype('int8')\n",
    "df_sales.item_price = df_sales.item_price.astype('float16')\n",
    "df_sales.item_cnt_day = df_sales.item_cnt_day.astype('int8')\n",
    "del df_sales['year']\n",
    "del df_sales['month']\n",
    "del df_sales['day']\n",
    "df_sales.day_of_week = df_sales.day_of_week.astype('int8')\n",
    "df_sales.holiday = df_sales.holyday.astype('int8')\n",
    "df_sales.other_events = df_sales.other_events.astype('int8')\n",
    "df_sales.first_15 = df_sales.first_15.astype('int8')\n",
    "df_sales.turismo = df_sales.turismo.astype('int8')\n",
    "\n",
    "\n",
    "\n",
    "\n",
    "\n",
    "\n",
    "\n",
    "\n"
   ]
  },
  {
   "cell_type": "code",
   "execution_count": 17,
   "metadata": {},
   "outputs": [
    {
     "name": "stdout",
     "output_type": "stream",
     "text": [
      "<class 'pandas.core.frame.DataFrame'>\n",
      "RangeIndex: 2935849 entries, 0 to 2935848\n",
      "Data columns (total 15 columns):\n",
      " #   Column          Dtype         \n",
      "---  ------          -----         \n",
      " 0   date            datetime64[ns]\n",
      " 1   date_block_num  int64         \n",
      " 2   shop_id         int8          \n",
      " 3   item_id         int8          \n",
      " 4   item_price      float16       \n",
      " 5   item_cnt_day    int8          \n",
      " 6   day_of_week     int8          \n",
      " 7   weekend         int8          \n",
      " 8   season          int8          \n",
      " 9   holyday         float64       \n",
      " 10  christmas       object        \n",
      " 11  other_events    int8          \n",
      " 12  first_15        int8          \n",
      " 13  week            int8          \n",
      " 14  turismo         int8          \n",
      "dtypes: datetime64[ns](1), float16(1), float64(1), int64(1), int8(10), object(1)\n",
      "memory usage: 123.2+ MB\n"
     ]
    }
   ],
   "source": [
    "df_sales.info()"
   ]
  },
  {
   "cell_type": "code",
   "execution_count": 18,
   "metadata": {},
   "outputs": [],
   "source": [
    "df_sales['christmas'] = LabelEncoder().fit_transform(df_sales['christmas']).astype('int8')\n",
    "df_sales.holyday = df_sales.holyday.astype('float16')\n"
   ]
  },
  {
   "cell_type": "code",
   "execution_count": 19,
   "metadata": {},
   "outputs": [],
   "source": [
    "df_sales.to_pickle('df-1.pkl')"
   ]
  },
  {
   "cell_type": "code",
   "execution_count": null,
   "metadata": {},
   "outputs": [],
   "source": []
  }
 ],
 "metadata": {
  "kernelspec": {
   "display_name": "Python 3",
   "language": "python",
   "name": "python3"
  },
  "language_info": {
   "codemirror_mode": {
    "name": "ipython",
    "version": 3
   },
   "file_extension": ".py",
   "mimetype": "text/x-python",
   "name": "python",
   "nbconvert_exporter": "python",
   "pygments_lexer": "ipython3",
   "version": "3.8.3"
  }
 },
 "nbformat": 4,
 "nbformat_minor": 4
}
